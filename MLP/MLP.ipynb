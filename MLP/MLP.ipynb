{
  "nbformat": 4,
  "nbformat_minor": 0,
  "metadata": {
    "colab": {
      "name": "MLP.ipynb",
      "provenance": [],
      "mount_file_id": "1TDSw2WENWnBnKboigqk14fuvahV3IgmN",
      "authorship_tag": "ABX9TyNox+lu/+GuPvXROiZUMk2M",
      "include_colab_link": true
    },
    "kernelspec": {
      "name": "python3",
      "display_name": "Python 3"
    },
    "language_info": {
      "name": "python"
    }
  },
  "cells": [
    {
      "cell_type": "markdown",
      "metadata": {
        "id": "view-in-github",
        "colab_type": "text"
      },
      "source": [
        "<a href=\"https://colab.research.google.com/github/HakkiAkut/ai-ml-algorithms/blob/master/MLP/MLP.ipynb\" target=\"_parent\"><img src=\"https://colab.research.google.com/assets/colab-badge.svg\" alt=\"Open In Colab\"/></a>"
      ]
    },
    {
      "cell_type": "markdown",
      "metadata": {
        "id": "RT_R3ObLCQgR"
      },
      "source": [
        "adding Google Drive"
      ]
    },
    {
      "cell_type": "code",
      "metadata": {
        "colab": {
          "base_uri": "https://localhost:8080/"
        },
        "id": "GCzPYzuEkTHg",
        "outputId": "4b409ea8-34bd-4d10-de6b-074a43c607df"
      },
      "source": [
        "%cd /content/drive/MyDrive/ML/mlp/"
      ],
      "execution_count": null,
      "outputs": [
        {
          "output_type": "stream",
          "name": "stdout",
          "text": [
            "/content/drive/MyDrive/ML/mlp\n"
          ]
        }
      ]
    },
    {
      "cell_type": "markdown",
      "metadata": {
        "id": "D7IdNe9QCN1b"
      },
      "source": [
        "Importing libraries"
      ]
    },
    {
      "cell_type": "code",
      "metadata": {
        "id": "r35SyICFmNDe"
      },
      "source": [
        "import pandas as pd\n",
        "import numpy as np\n",
        "from sklearn.preprocessing import LabelEncoder\n",
        "from sklearn.neural_network import MLPRegressor"
      ],
      "execution_count": null,
      "outputs": []
    },
    {
      "cell_type": "markdown",
      "metadata": {
        "id": "h9TFOU_uB5e8"
      },
      "source": [
        "Receiving data from csv files"
      ]
    },
    {
      "cell_type": "code",
      "metadata": {
        "id": "QycobRUAmlgP"
      },
      "source": [
        "train = pd.read_csv(\"carpricestrain.csv\") # receive data from carpricestrain.csv\n",
        "train_shuffled = train.sample(frac=1)  # shuffle\n",
        "\n",
        "test = pd.read_csv(\"carpricestest.csv\") # receive data from carpricestest.csv\n",
        "test_shuffled = test.sample(frac=1)  # shuffle\n"
      ],
      "execution_count": null,
      "outputs": []
    },
    {
      "cell_type": "markdown",
      "metadata": {
        "id": "G0Wc2eblBzBc"
      },
      "source": [
        "Changing categorical values to numerical ones and separete features and labels"
      ]
    },
    {
      "cell_type": "code",
      "metadata": {
        "id": "LlQfIPRTmGOS"
      },
      "source": [
        "def car_data_extraction(data):\n",
        "  labelEncoder= LabelEncoder() # label encoder\n",
        "  model= labelEncoder.fit_transform(data.iloc[0:,0].values) # categorical\n",
        "  year= data.iloc[0:,1].values \n",
        "  car_label= data.iloc[0:,2].values\n",
        "  trans= labelEncoder.fit_transform(data.iloc[0:,3].values) # categorical \n",
        "  mile= data.iloc[0:,4].values\n",
        "  fuel=labelEncoder.fit_transform(data.iloc[0:,5].values) # categorical \n",
        "  tax= data.iloc[0:,6].values\n",
        "  mpg= data.iloc[0:,7].values\n",
        "  size= data.iloc[0:,8].values\n",
        "  car_features=[]\n",
        "  for i in range(len(car_label)):\n",
        "    current_row = [model[i], year[i], trans[i], mile[i], fuel[i], tax[i], mpg[i], size[i]]\n",
        "    car_features.append(current_row)\n",
        "  return np.array(car_features), car_label"
      ],
      "execution_count": null,
      "outputs": []
    },
    {
      "cell_type": "markdown",
      "metadata": {
        "id": "k9cgfJTjBtO3"
      },
      "source": [
        "Testing "
      ]
    },
    {
      "cell_type": "code",
      "metadata": {
        "colab": {
          "base_uri": "https://localhost:8080/"
        },
        "id": "z_o72eczrImz",
        "outputId": "9e436dc6-1055-4e34-bef0-af1b7da63a80"
      },
      "source": [
        "features,labels = car_data_extraction(train_shuffled)\n",
        "features_test,labels_test = car_data_extraction(test_shuffled)\n",
        "\n",
        "regr = MLPRegressor(random_state=1, max_iter=1000).fit(features, labels)\n",
        "regr.predict(features_test)\n",
        "regr.score(features_test, labels_test)"
      ],
      "execution_count": null,
      "outputs": [
        {
          "output_type": "execute_result",
          "data": {
            "text/plain": [
              "0.8123221575047579"
            ]
          },
          "metadata": {},
          "execution_count": 6
        }
      ]
    }
  ]
}
