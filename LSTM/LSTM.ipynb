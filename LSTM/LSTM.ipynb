{
  "nbformat": 4,
  "nbformat_minor": 0,
  "metadata": {
    "colab": {
      "name": "LSTM.ipynb",
      "provenance": [],
      "collapsed_sections": [],
      "mount_file_id": "1OIgerMEOJ3F4ZaPGB9ogFXZErRbCnBvi",
      "authorship_tag": "ABX9TyM3nGqLt/5Ne6+F9UoW2giN",
      "include_colab_link": true
    },
    "kernelspec": {
      "name": "python3",
      "display_name": "Python 3"
    },
    "language_info": {
      "name": "python"
    }
  },
  "cells": [
    {
      "cell_type": "markdown",
      "metadata": {
        "id": "view-in-github",
        "colab_type": "text"
      },
      "source": [
        "<a href=\"https://colab.research.google.com/github/HakkiAkut/ai-ml-algorithms/blob/master/LSTM/LSTM.ipynb\" target=\"_parent\"><img src=\"https://colab.research.google.com/assets/colab-badge.svg\" alt=\"Open In Colab\"/></a>"
      ]
    },
    {
      "cell_type": "code",
      "execution_count": 2,
      "metadata": {
        "id": "1G-YmOhu8IaG",
        "colab": {
          "base_uri": "https://localhost:8080/"
        },
        "outputId": "eeb0d078-4f03-4f3a-872e-4e3bc6045734"
      },
      "outputs": [
        {
          "output_type": "stream",
          "name": "stdout",
          "text": [
            "/content/drive/MyDrive/ML/lstm\n"
          ]
        }
      ],
      "source": [
        "%cd /content/drive/MyDrive/ML/lstm/"
      ]
    },
    {
      "cell_type": "code",
      "source": [
        "from google.colab import drive\n",
        "drive.mount('/content/drive')"
      ],
      "metadata": {
        "id": "9AkVXMnuQIDQ"
      },
      "execution_count": null,
      "outputs": []
    },
    {
      "cell_type": "code",
      "source": [
        "import pandas as pd\n",
        "import numpy as np\n",
        "from sklearn.preprocessing import LabelEncoder\n",
        "from sklearn.model_selection import train_test_split\n",
        "from keras.preprocessing.sequence import pad_sequences\n",
        "from keras.preprocessing.text import Tokenizer\n",
        "from keras.models import Sequential\n",
        "from keras.layers import Dense, Dropout, LSTM, Embedding\n",
        "from keras.losses import binary_crossentropy"
      ],
      "metadata": {
        "id": "kgO4R6v_Nqu9"
      },
      "execution_count": null,
      "outputs": []
    },
    {
      "cell_type": "markdown",
      "source": [
        "the dataset is from https://www.kaggle.com/team-ai/spam-text-message-classification"
      ],
      "metadata": {
        "id": "yNCL8W7nPvGG"
      }
    },
    {
      "cell_type": "code",
      "source": [
        "dataset = pd.read_csv(\"dataset.csv\", encoding='latin-1') # receive data from dataset.csv\n",
        "dataset = dataset.sample(frac=1)  # shuffle\n",
        "dataset.shape"
      ],
      "metadata": {
        "colab": {
          "base_uri": "https://localhost:8080/"
        },
        "id": "jx641hdANkoM",
        "outputId": "06e21ac4-5647-477c-e8b5-1a8972f24279"
      },
      "execution_count": null,
      "outputs": [
        {
          "output_type": "execute_result",
          "data": {
            "text/plain": [
              "(5572, 2)"
            ]
          },
          "metadata": {},
          "execution_count": 173
        }
      ]
    },
    {
      "cell_type": "markdown",
      "source": [
        "Splitting dataset to labels and features"
      ],
      "metadata": {
        "id": "5Z-uUnyBThrm"
      }
    },
    {
      "cell_type": "code",
      "source": [
        "def data_split(data):\n",
        "  labelEncoder= LabelEncoder()\n",
        "  labels= data.iloc[0:,0].values # takes labels which is 1th column for dataset.csv \n",
        "  labels= labelEncoder.fit_transform(labels)\n",
        "  features = data.iloc[0:,1].values # takes features which is 2th column for dataset.csv \n",
        "  return features, labels"
      ],
      "metadata": {
        "id": "CAPWYZ8yQcMk"
      },
      "execution_count": null,
      "outputs": []
    },
    {
      "cell_type": "code",
      "source": [
        "features, labels= data_split(dataset)"
      ],
      "metadata": {
        "id": "LM3DagvySCAr"
      },
      "execution_count": null,
      "outputs": []
    },
    {
      "cell_type": "markdown",
      "source": [
        "Finding total number of words and max length of a message"
      ],
      "metadata": {
        "id": "CgzBLuH8M3Rp"
      }
    },
    {
      "cell_type": "code",
      "source": [
        "tokenizer = Tokenizer()\n",
        "tokenizer.fit_on_texts(features)\n",
        "features_seq = tokenizer.texts_to_sequences(features)\n",
        "max_length = max([len(item) for item in features_seq])\n",
        "word_size = len(tokenizer.word_index) + 1\n",
        "word_size, max_length"
      ],
      "metadata": {
        "id": "P8EkqXc_Ea-H",
        "colab": {
          "base_uri": "https://localhost:8080/"
        },
        "outputId": "974781d9-bf5e-47ad-8f73-0e41425ba511"
      },
      "execution_count": null,
      "outputs": [
        {
          "output_type": "execute_result",
          "data": {
            "text/plain": [
              "(9008, 189)"
            ]
          },
          "metadata": {},
          "execution_count": 176
        }
      ]
    },
    {
      "cell_type": "markdown",
      "source": [
        "Adding shape to data since I'm using keras sequential, its needed to have a shape.\n",
        "\n",
        "if word_size and  max_size stays 9008 and 189 respectively, the metrics are val_loss: 0.1687 - val_accuracy: 0.8543\n",
        "\n",
        "I decided to limit word_size and max_size to 1500 and 100 and the metrics becomes val_loss: 0.0583 - val_accuracy: 0.9821 (way better)"
      ],
      "metadata": {
        "id": "dGLyel2cPfqr"
      }
    },
    {
      "cell_type": "code",
      "source": [
        "word_size, max_length = 1500, 100\n",
        "tokenizer = Tokenizer(num_words=word_size)\n",
        "tokenizer.fit_on_texts(features)\n",
        "features = pad_sequences(tokenizer.texts_to_sequences(features), maxlen = max_length) "
      ],
      "metadata": {
        "id": "KPg3Q8o82ORZ"
      },
      "execution_count": null,
      "outputs": []
    },
    {
      "cell_type": "markdown",
      "source": [
        "dividing dataset to train and test"
      ],
      "metadata": {
        "id": "H4WOOtLAe7bE"
      }
    },
    {
      "cell_type": "code",
      "source": [
        "train_x, test_x, train_y, test_y = train_test_split(features, labels, test_size =0.2, random_state=42) # split into training set and test set\n",
        "print(train_x.shape,test_x.shape) # train size, test size"
      ],
      "metadata": {
        "colab": {
          "base_uri": "https://localhost:8080/"
        },
        "id": "hGiZ888pX8fe",
        "outputId": "9fbd8c35-3eea-4b97-edf1-e99cfad4e3d3"
      },
      "execution_count": null,
      "outputs": [
        {
          "output_type": "stream",
          "name": "stdout",
          "text": [
            "(4457, 100) (1115, 100)\n"
          ]
        }
      ]
    },
    {
      "cell_type": "markdown",
      "source": [
        "Initializing the model"
      ],
      "metadata": {
        "id": "t3vSFSJ3fA9z"
      }
    },
    {
      "cell_type": "code",
      "source": [
        "model= Sequential()"
      ],
      "metadata": {
        "id": "nilKpBGY5_vF"
      },
      "execution_count": null,
      "outputs": []
    },
    {
      "cell_type": "markdown",
      "source": [
        "Adding layers to model"
      ],
      "metadata": {
        "id": "evb9CwACfDwD"
      }
    },
    {
      "cell_type": "code",
      "source": [
        "model.add(Embedding(word_size, 64, input_length=max_length, name='Embedding1')) # need to add Embedding layer since working with text\n",
        "\n",
        "model.add(LSTM(64,return_sequences=True, activation='relu', name= 'LSTM1'))\n",
        "model.add(Dropout(0.2))\n",
        "\n",
        "model.add(LSTM(128,activation='relu', name='LSTM2'))\n",
        "model.add(Dropout(0.2)) \n",
        "\n",
        "model.add(Dense(128,activation='relu', name='Dense1'))\n",
        "model.add(Dropout(0.2))\n",
        "model.add(Dense(64,activation='relu', name='Dense2'))\n",
        "model.add(Dropout(0.2))\n",
        "model.add(Dense(32,activation='relu', name='Dense3'))\n",
        "model.add(Dropout(0.2))\n",
        "model.add(Dense(16,activation='relu', name='Dense4'))\n",
        "model.add(Dropout(0.2))\n",
        "model.add(Dense(1,activation='sigmoid', name='Output'))"
      ],
      "metadata": {
        "id": "GT2ovxLZXDfr"
      },
      "execution_count": null,
      "outputs": []
    },
    {
      "cell_type": "code",
      "source": [
        "model.compile(loss=binary_crossentropy, optimizer='adam', metrics=['accuracy'])"
      ],
      "metadata": {
        "id": "6RmomSNBec3U"
      },
      "execution_count": null,
      "outputs": []
    },
    {
      "cell_type": "markdown",
      "source": [
        "Summary"
      ],
      "metadata": {
        "id": "YuEJ4inHfJl8"
      }
    },
    {
      "cell_type": "code",
      "source": [
        "model.summary()"
      ],
      "metadata": {
        "colab": {
          "base_uri": "https://localhost:8080/"
        },
        "id": "hoFhK-0Eev8F",
        "outputId": "da01d7ed-8123-44d2-f5d0-c42cb6a3cc99"
      },
      "execution_count": null,
      "outputs": [
        {
          "output_type": "stream",
          "name": "stdout",
          "text": [
            "Model: \"sequential_11\"\n",
            "_________________________________________________________________\n",
            " Layer (type)                Output Shape              Param #   \n",
            "=================================================================\n",
            " Embedding1 (Embedding)      (None, 100, 64)           96000     \n",
            "                                                                 \n",
            " LSTM1 (LSTM)                (None, 100, 64)           33024     \n",
            "                                                                 \n",
            " dropout_66 (Dropout)        (None, 100, 64)           0         \n",
            "                                                                 \n",
            " LSTM2 (LSTM)                (None, 128)               98816     \n",
            "                                                                 \n",
            " dropout_67 (Dropout)        (None, 128)               0         \n",
            "                                                                 \n",
            " Dense1 (Dense)              (None, 128)               16512     \n",
            "                                                                 \n",
            " dropout_68 (Dropout)        (None, 128)               0         \n",
            "                                                                 \n",
            " Dense2 (Dense)              (None, 64)                8256      \n",
            "                                                                 \n",
            " dropout_69 (Dropout)        (None, 64)                0         \n",
            "                                                                 \n",
            " Dense3 (Dense)              (None, 32)                2080      \n",
            "                                                                 \n",
            " dropout_70 (Dropout)        (None, 32)                0         \n",
            "                                                                 \n",
            " Dense4 (Dense)              (None, 16)                528       \n",
            "                                                                 \n",
            " dropout_71 (Dropout)        (None, 16)                0         \n",
            "                                                                 \n",
            " Output (Dense)              (None, 1)                 17        \n",
            "                                                                 \n",
            "=================================================================\n",
            "Total params: 255,233\n",
            "Trainable params: 255,233\n",
            "Non-trainable params: 0\n",
            "_________________________________________________________________\n"
          ]
        }
      ]
    },
    {
      "cell_type": "markdown",
      "source": [
        "Training"
      ],
      "metadata": {
        "id": "qiBtFZWrfMw0"
      }
    },
    {
      "cell_type": "code",
      "source": [
        "model.fit(train_x, train_y, batch_size=128, epochs=10, validation_data=(test_x, test_y))"
      ],
      "metadata": {
        "colab": {
          "base_uri": "https://localhost:8080/"
        },
        "id": "MBwunf_3F6br",
        "outputId": "c1c63524-a915-434c-82c5-649f68b9b10b"
      },
      "execution_count": null,
      "outputs": [
        {
          "output_type": "stream",
          "name": "stdout",
          "text": [
            "Epoch 1/10\n",
            "35/35 [==============================] - 19s 470ms/step - loss: 1213.2220 - accuracy: 0.8474 - val_loss: 0.5658 - val_accuracy: 0.8619\n",
            "Epoch 2/10\n",
            "35/35 [==============================] - 16s 456ms/step - loss: 0.5388 - accuracy: 0.8643 - val_loss: 0.4867 - val_accuracy: 0.8619\n",
            "Epoch 3/10\n",
            "35/35 [==============================] - 16s 457ms/step - loss: 0.4405 - accuracy: 0.8609 - val_loss: 0.3250 - val_accuracy: 0.8619\n",
            "Epoch 4/10\n",
            "35/35 [==============================] - 16s 456ms/step - loss: 0.3053 - accuracy: 0.8636 - val_loss: 0.1916 - val_accuracy: 0.8619\n",
            "Epoch 5/10\n",
            "35/35 [==============================] - 16s 458ms/step - loss: 0.3632 - accuracy: 0.8782 - val_loss: 0.1339 - val_accuracy: 0.9561\n",
            "Epoch 6/10\n",
            "35/35 [==============================] - 16s 457ms/step - loss: 0.3476 - accuracy: 0.9670 - val_loss: 0.0716 - val_accuracy: 0.9830\n",
            "Epoch 7/10\n",
            "35/35 [==============================] - 16s 457ms/step - loss: 0.0756 - accuracy: 0.9805 - val_loss: 0.0634 - val_accuracy: 0.9848\n",
            "Epoch 8/10\n",
            "35/35 [==============================] - 16s 457ms/step - loss: 0.0564 - accuracy: 0.9868 - val_loss: 0.0627 - val_accuracy: 0.9848\n",
            "Epoch 9/10\n",
            "35/35 [==============================] - 16s 456ms/step - loss: 1030283.4375 - accuracy: 0.9868 - val_loss: 0.0635 - val_accuracy: 0.9848\n",
            "Epoch 10/10\n",
            "35/35 [==============================] - 16s 459ms/step - loss: 0.0594 - accuracy: 0.9870 - val_loss: 0.0583 - val_accuracy: 0.9821\n"
          ]
        },
        {
          "output_type": "execute_result",
          "data": {
            "text/plain": [
              "<keras.callbacks.History at 0x7fcf10f657d0>"
            ]
          },
          "metadata": {},
          "execution_count": 183
        }
      ]
    },
    {
      "cell_type": "markdown",
      "source": [
        "The Metrics"
      ],
      "metadata": {
        "id": "8JyvdHlkfcGq"
      }
    },
    {
      "cell_type": "code",
      "source": [
        "loss, accuracy = model.evaluate(test_x, test_y, batch_size=128)\n",
        "print(f'loss: {loss}, accuracy: {accuracy}')"
      ],
      "metadata": {
        "colab": {
          "base_uri": "https://localhost:8080/"
        },
        "id": "-5s12UlyfVBy",
        "outputId": "c474ce21-99b3-45f5-8920-6731f09de25f"
      },
      "execution_count": null,
      "outputs": [
        {
          "output_type": "stream",
          "name": "stdout",
          "text": [
            "9/9 [==============================] - 1s 138ms/step - loss: 0.0583 - accuracy: 0.9821\n",
            "loss: 0.05830492824316025, accuracy: 0.9820627570152283\n"
          ]
        }
      ]
    },
    {
      "cell_type": "markdown",
      "source": [
        "I tried to do spam ham text classification, the metrics are: loss is 0.0583, and accuracy 0.9821. Which is a pretty good model."
      ],
      "metadata": {
        "id": "k7KN1H6DePw-"
      }
    }
  ]
}