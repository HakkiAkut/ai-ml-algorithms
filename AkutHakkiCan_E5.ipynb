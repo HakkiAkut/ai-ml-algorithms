{
 "cells": [
  {
   "cell_type": "code",
   "execution_count": 1,
   "id": "2dd461e1",
   "metadata": {},
   "outputs": [],
   "source": [
    "import numpy as np\n",
    "import scipy\n",
    "from scipy import linalg\n",
    "from scipy import optimize\n",
    "from scipy import stats\n",
    "import matplotlib.pyplot as plt\n",
    "import math"
   ]
  },
  {
   "cell_type": "markdown",
   "id": "8d4ed4f2",
   "metadata": {},
   "source": [
    "# 9. Numpy\n",
    "## 9.5. Singular values"
   ]
  },
  {
   "cell_type": "code",
   "execution_count": 2,
   "id": "b781c783",
   "metadata": {},
   "outputs": [
    {
     "name": "stdout",
     "output_type": "stream",
     "text": [
      "[[0 1 1 ... 0 0 0]\n",
      " [1 1 0 ... 0 0 0]\n",
      " [0 0 0 ... 1 1 0]\n",
      " ...\n",
      " [1 1 1 ... 0 1 0]\n",
      " [1 0 0 ... 0 1 1]\n",
      " [1 1 0 ... 1 1 1]]\n",
      "100.50983724865777\n"
     ]
    }
   ],
   "source": [
    "n = 200\n",
    "p= .5\n",
    "C = np.random.binomial(1, p ,size= (n, n))\n",
    "print(C)\n",
    "U,S,V = linalg.svd(C)\n",
    "print(max(S))"
   ]
  },
  {
   "cell_type": "markdown",
   "id": "5216106b",
   "metadata": {},
   "source": [
    "The largest singular value is similar to n*p"
   ]
  },
  {
   "cell_type": "markdown",
   "id": "ebd0bdc4",
   "metadata": {},
   "source": [
    "# 10. Scipy\n",
    "## 10.1. Least squares"
   ]
  },
  {
   "cell_type": "code",
   "execution_count": 3,
   "id": "579b469c",
   "metadata": {},
   "outputs": [
    {
     "data": {
      "text/plain": [
       "90"
      ]
     },
     "execution_count": 3,
     "metadata": {},
     "output_type": "execute_result"
    }
   ],
   "source": [
    "n,m=100,200\n",
    "A = np.random.normal(0, 1, (m, n))\n",
    "b= np.random.normal(0, 1,  m)\n",
    "x = linalg.lstsq(A, b,)[0]\n",
    "np.argmin(x)"
   ]
  },
  {
   "cell_type": "markdown",
   "id": "acd7f7fb",
   "metadata": {},
   "source": [
    "## 10.2. Optimization"
   ]
  },
  {
   "cell_type": "code",
   "execution_count": 5,
   "id": "1cedf5b0",
   "metadata": {},
   "outputs": [
    {
     "data": {
      "text/plain": [
       "42.206731248238405"
      ]
     },
     "execution_count": 5,
     "metadata": {},
     "output_type": "execute_result"
    }
   ],
   "source": [
    "def fun(x):\n",
    "    return (math.sin(x-2) ** 2) * math.exp(-x**2)\n",
    "\n",
    "fun1=np.vectorize(fun)\n",
    "x = np.linspace(-5,5)\n",
    "a = optimize.fsolve(fun1,x) \n",
    "a.max()"
   ]
  },
  {
   "cell_type": "markdown",
   "id": "af931dd4",
   "metadata": {},
   "source": [
    "## 10.3. Pairwise distances"
   ]
  },
  {
   "cell_type": "code",
   "execution_count": 6,
   "id": "487d3e8a",
   "metadata": {},
   "outputs": [
    {
     "data": {
      "text/plain": [
       "array([[0.        , 3.74703754, 4.41783061, 2.21090927, 5.11584272,\n",
       "        5.37285529, 3.82432879, 4.04938781, 2.4224873 , 3.48304439],\n",
       "       [3.74703754, 0.        , 5.4074137 , 3.58254266, 4.54403208,\n",
       "        5.30122216, 3.79697784, 4.080424  , 3.71405081, 3.46835264],\n",
       "       [4.41783061, 5.4074137 , 0.        , 4.13072112, 3.60128132,\n",
       "        4.5036934 , 4.00395133, 4.48609908, 4.58548873, 5.51411143],\n",
       "       [2.21090927, 3.58254266, 4.13072112, 0.        , 4.55387246,\n",
       "        4.69862504, 3.76131437, 3.43653656, 2.87144878, 3.93089114],\n",
       "       [5.11584272, 4.54403208, 3.60128132, 4.55387246, 0.        ,\n",
       "        5.27445677, 5.0220084 , 4.94510495, 5.40886818, 5.52608749],\n",
       "       [5.37285529, 5.30122216, 4.5036934 , 4.69862504, 5.27445677,\n",
       "        0.        , 4.60928873, 4.72828265, 4.73471091, 5.75813651],\n",
       "       [3.82432879, 3.79697784, 4.00395133, 3.76131437, 5.0220084 ,\n",
       "        4.60928873, 0.        , 4.69268204, 3.17128234, 3.39666127],\n",
       "       [4.04938781, 4.080424  , 4.48609908, 3.43653656, 4.94510495,\n",
       "        4.72828265, 4.69268204, 0.        , 3.34470128, 5.06883455],\n",
       "       [2.4224873 , 3.71405081, 4.58548873, 2.87144878, 5.40886818,\n",
       "        4.73471091, 3.17128234, 3.34470128, 0.        , 3.56897127],\n",
       "       [3.48304439, 3.46835264, 5.51411143, 3.93089114, 5.52608749,\n",
       "        5.75813651, 3.39666127, 5.06883455, 3.56897127, 0.        ]])"
      ]
     },
     "execution_count": 6,
     "metadata": {},
     "output_type": "execute_result"
    }
   ],
   "source": [
    "n=10\n",
    "m=10\n",
    "X= np.random.normal(0, 1, (m, n))\n",
    "distance = np.zeros((m,n))\n",
    "for i in range(m):\n",
    "    for j in range(n):\n",
    "        distance[i,j]= np.absolute(linalg.norm(X[i]-X[j])) # distance of ith row and jth row\n",
    "distance"
   ]
  },
  {
   "cell_type": "markdown",
   "id": "fa61d90d",
   "metadata": {},
   "source": [
    "# 11. Matplotlib\n",
    "## 11.1. Plotting a function"
   ]
  },
  {
   "cell_type": "code",
   "execution_count": 8,
   "id": "23b34f60",
   "metadata": {},
   "outputs": [
    {
     "data": {
      "image/png": "[encoded data removed]",
      "text/plain": [
       "<Figure size 432x288 with 1 Axes>"
      ]
     },
     "metadata": {
      "needs_background": "light"
     },
     "output_type": "display_data"
    }
   ],
   "source": [
    "def fun(x):\n",
    "    return (math.sin(x-2) ** 2) * math.exp(-x**2)\n",
    "\n",
    "fun1= np.vectorize(fun)\n",
    "x= np.linspace(0,2)\n",
    "plt.plot(x,fun1(x))\n",
    "plt.xlabel('x from 0 to 2') \n",
    "plt.title(\"graph of 'fun(x)' function\")\n",
    "plt.show()"
   ]
  },
  {
   "cell_type": "markdown",
   "id": "24a59ca3",
   "metadata": {},
   "source": [
    "## 11.2.  Data"
   ]
  },
  {
   "cell_type": "code",
   "execution_count": 10,
   "id": "2a06c941",
   "metadata": {},
   "outputs": [
    {
     "data": {
      "text/plain": [
       "[<matplotlib.lines.Line2D at 0x1eb3af6faf0>]"
      ]
     },
     "execution_count": 10,
     "metadata": {},
     "output_type": "execute_result"
    },
    {
     "data": {
      "image/png": "[encoded data removed]",
      "text/plain": [
       "<Figure size 432x288 with 1 Axes>"
      ]
     },
     "metadata": {
      "needs_background": "light"
     },
     "output_type": "display_data"
    }
   ],
   "source": [
    "X= np.random.normal(0, 1, (20, 10))\n",
    "b= np.random.normal(0,1, 10)\n",
    "z=np.random.normal(0, 1, 20)\n",
    "y= X@b + z\n",
    "\n",
    "b1 = linalg.lstsq(X, y,)[0]\n",
    "\n",
    "plt.plot(b1)\n",
    "plt.plot(b)"
   ]
  },
  {
   "cell_type": "markdown",
   "id": "365a014c",
   "metadata": {},
   "source": [
    "## 11.3. Histogram and density estimation"
   ]
  },
  {
   "cell_type": "code",
   "execution_count": 11,
   "id": "9164603b",
   "metadata": {},
   "outputs": [
    {
     "data": {
      "text/plain": [
       "(array([ 317.,  374.,  452.,  620.,  651.,  679.,  763., 1016., 1629.,\n",
       "        3499.]),\n",
       " array([3.05028826e-04, 4.05640116e-02, 8.08229943e-02, 1.21081977e-01,\n",
       "        1.61340960e-01, 2.01599943e-01, 2.41858925e-01, 2.82117908e-01,\n",
       "        3.22376891e-01, 3.62635874e-01, 4.02894856e-01]),\n",
       " <BarContainer object of 10 artists>)"
      ]
     },
     "execution_count": 11,
     "metadata": {},
     "output_type": "execute_result"
    },
    {
     "data": {
      "image/png": "[encoded data removed]",
      "text/plain": [
       "<Figure size 432x288 with 1 Axes>"
      ]
     },
     "metadata": {
      "needs_background": "light"
     },
     "output_type": "display_data"
    }
   ],
   "source": [
    "z=np.random.normal(0,1, 10000)\n",
    "positions = np.vstack([z.ravel()])\n",
    "kernel =stats.gaussian_kde(z)\n",
    "Z = np.reshape(kernel(positions).transpose(), z.shape)\n",
    "\n",
    "counts, bins = np.histogram(Z)\n",
    "plt.hist(bins[:-1], bins, weights=counts)"
   ]
  }
 ],
 "metadata": {
  "kernelspec": {
   "display_name": "Python 3 (ipykernel)",
   "language": "python",
   "name": "python3"
  },
  "language_info": {
   "codemirror_mode": {
    "name": "ipython",
    "version": 3
   },
   "file_extension": ".py",
   "mimetype": "text/x-python",
   "name": "python",
   "nbconvert_exporter": "python",
   "pygments_lexer": "ipython3",
   "version": "3.10.0"
  }
 },
 "nbformat": 4,
 "nbformat_minor": 5
}
